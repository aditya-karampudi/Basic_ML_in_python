{
 "cells": [
  {
   "cell_type": "markdown",
   "metadata": {},
   "source": [
    "### Introduction:\n",
    "\n",
    "This exercise may seem a little bit strange, but keep doing it.\n",
    "\n",
    "### Step 1. Import the necessary libraries"
   ]
  },
  {
   "cell_type": "code",
   "execution_count": null,
   "metadata": {},
   "outputs": [],
   "source": [
    "import pandas as pd\n",
    "import numpy as np"
   ]
  },
  {
   "cell_type": "markdown",
   "metadata": {},
   "source": [
    "### Step 2. Read iris.data file and assign it to a variable called iris"
   ]
  },
  {
   "cell_type": "code",
   "execution_count": null,
   "metadata": {},
   "outputs": [],
   "source": []
  },
  {
   "cell_type": "markdown",
   "metadata": {},
   "source": [
    "### Step 3. Create columns for the dataset"
   ]
  },
  {
   "cell_type": "code",
   "execution_count": 57,
   "metadata": {},
   "outputs": [],
   "source": [
    "# 1. sepal_length (in cm)\n",
    "# 2. sepal_width (in cm)\n",
    "# 3. petal_length (in cm)\n",
    "# 4. petal_width (in cm)\n",
    "# 5. class"
   ]
  },
  {
   "cell_type": "markdown",
   "metadata": {},
   "source": [
    "### Step 4.  Is there any missing value in the dataframe?"
   ]
  },
  {
   "cell_type": "code",
   "execution_count": null,
   "metadata": {},
   "outputs": [],
   "source": []
  },
  {
   "cell_type": "markdown",
   "metadata": {},
   "source": [
    "### Step 5.  Lets set the values of the rows 10 to 29 of the column 'petal_length' to NaN"
   ]
  },
  {
   "cell_type": "code",
   "execution_count": null,
   "metadata": {},
   "outputs": [],
   "source": []
  },
  {
   "cell_type": "markdown",
   "metadata": {},
   "source": [
    "### Step 6. Good, now lets substitute the NaN values to 1.0"
   ]
  },
  {
   "cell_type": "code",
   "execution_count": 3,
   "metadata": {},
   "outputs": [
    {
     "data": {
      "text/plain": [
       "datetime.datetime(2014, 10, 10, 0, 0)"
      ]
     },
     "execution_count": 3,
     "metadata": {},
     "output_type": "execute_result"
    }
   ],
   "source": [
    "from datetime import datetime, timedelta\n",
    "from collections import OrderedDict\n",
    "dates = [\"2014-10-10\", \"2016-01-07\"]\n",
    "start, end = [datetime.strptime(_, \"%Y-%m-%d\") for _ in dates]\n",
    "start"
   ]
  },
  {
   "cell_type": "markdown",
   "metadata": {},
   "source": [
    "### Step 7. Now let's delete the column class"
   ]
  },
  {
   "cell_type": "code",
   "execution_count": 4,
   "metadata": {},
   "outputs": [
    {
     "data": {
      "text/plain": [
       "datetime.datetime(2016, 1, 7, 0, 0)"
      ]
     },
     "execution_count": 4,
     "metadata": {},
     "output_type": "execute_result"
    }
   ],
   "source": [
    "end"
   ]
  },
  {
   "cell_type": "markdown",
   "metadata": {},
   "source": [
    "### Step 8.  Set the first 3 rows as NaN"
   ]
  },
  {
   "cell_type": "code",
   "execution_count": 10,
   "metadata": {},
   "outputs": [],
   "source": [
    "from datetime import timedelta, date\n",
    "\n",
    "def daterange(start_date, end_date):\n",
    "    for n in range(int ((end_date - start_date).days)):\n",
    "        yield start_date + timedelta(n)\n",
    "\n",
    "start_date = date(2013, 1,1)\n",
    "end_date = date(2015, 6,1)\n",
    "for single_date in daterange(start_date, end_date):\n",
    "    vv= single_date.strftime(\"%Y-%m\")"
   ]
  },
  {
   "cell_type": "markdown",
   "metadata": {},
   "source": [
    "### Step 9.  Delete the rows that have NaN"
   ]
  },
  {
   "cell_type": "code",
   "execution_count": 31,
   "metadata": {},
   "outputs": [],
   "source": [
    "import pandas as pd"
   ]
  },
  {
   "cell_type": "markdown",
   "metadata": {},
   "source": [
    "### Step 10. Reset the index so it begins with 0 again"
   ]
  },
  {
   "cell_type": "code",
   "execution_count": 32,
   "metadata": {
    "scrolled": true
   },
   "outputs": [
    {
     "name": "stdout",
     "output_type": "stream",
     "text": [
      "2013-09-01\n",
      "2013-10-02\n",
      "2013-11-02\n",
      "2013-12-03\n",
      "2014-01-03\n",
      "2014-02-03\n",
      "2014-03-06\n",
      "2014-04-06\n",
      "2014-05-07\n",
      "2014-06-07\n",
      "2014-07-08\n",
      "2014-08-08\n",
      "2014-09-08\n",
      "2014-10-09\n",
      "2014-11-09\n",
      "2014-12-10\n",
      "2015-01-10\n",
      "2015-02-10\n",
      "2015-03-13\n",
      "2015-04-13\n",
      "2015-05-14\n",
      "2015-06-14\n",
      "2015-07-15\n",
      "2015-08-15\n",
      "2015-09-15\n",
      "2015-10-16\n",
      "2015-11-16\n",
      "2015-12-17\n",
      "2016-01-17\n",
      "2016-02-17\n",
      "2016-03-19\n",
      "2016-04-19\n",
      "2016-05-20\n",
      "2016-06-20\n",
      "2016-07-21\n",
      "2016-08-21\n",
      "2016-09-21\n",
      "2016-10-22\n",
      "2016-11-22\n",
      "2016-12-23\n",
      "2017-01-23\n",
      "2017-02-23\n",
      "2017-03-26\n",
      "2017-04-26\n",
      "2017-05-27\n",
      "2017-06-27\n",
      "2017-07-28\n"
     ]
    }
   ],
   "source": [
    "date_list = []\n",
    "\n",
    "gg = pd.DataFrame\n",
    "from datetime import date, datetime, timedelta\n",
    "\n",
    "def perdelta(start, end, delta):\n",
    "    curr = start\n",
    "    while curr < end:\n",
    "        yield curr\n",
    "        curr += delta\n",
    "    \n",
    "for result in perdelta(date(2013, 9,1), date(2017, 8,1), timedelta(days=31)):\n",
    "    print(result)\n",
    "    date_list.append(result)"
   ]
  },
  {
   "cell_type": "code",
   "execution_count": 27,
   "metadata": {},
   "outputs": [
    {
     "data": {
      "text/plain": [
       "datetime.date(2017, 7, 28)"
      ]
     },
     "execution_count": 27,
     "metadata": {},
     "output_type": "execute_result"
    }
   ],
   "source": [
    "result"
   ]
  },
  {
   "cell_type": "markdown",
   "metadata": {},
   "source": [
    "### BONUS: Create your own question and answer it."
   ]
  },
  {
   "cell_type": "code",
   "execution_count": 26,
   "metadata": {},
   "outputs": [
    {
     "data": {
      "text/plain": [
       "[datetime.date(2013, 9, 1),\n",
       " datetime.date(2013, 10, 2),\n",
       " datetime.date(2013, 11, 2),\n",
       " datetime.date(2013, 12, 3),\n",
       " datetime.date(2014, 1, 3),\n",
       " datetime.date(2014, 2, 3),\n",
       " datetime.date(2014, 3, 6),\n",
       " datetime.date(2014, 4, 6),\n",
       " datetime.date(2014, 5, 7),\n",
       " datetime.date(2014, 6, 7),\n",
       " datetime.date(2014, 7, 8),\n",
       " datetime.date(2014, 8, 8),\n",
       " datetime.date(2014, 9, 8),\n",
       " datetime.date(2014, 10, 9),\n",
       " datetime.date(2014, 11, 9),\n",
       " datetime.date(2014, 12, 10),\n",
       " datetime.date(2015, 1, 10),\n",
       " datetime.date(2015, 2, 10),\n",
       " datetime.date(2015, 3, 13),\n",
       " datetime.date(2015, 4, 13),\n",
       " datetime.date(2015, 5, 14),\n",
       " datetime.date(2015, 6, 14),\n",
       " datetime.date(2015, 7, 15),\n",
       " datetime.date(2015, 8, 15),\n",
       " datetime.date(2015, 9, 15),\n",
       " datetime.date(2015, 10, 16),\n",
       " datetime.date(2015, 11, 16),\n",
       " datetime.date(2015, 12, 17),\n",
       " datetime.date(2016, 1, 17),\n",
       " datetime.date(2016, 2, 17),\n",
       " datetime.date(2016, 3, 19),\n",
       " datetime.date(2016, 4, 19),\n",
       " datetime.date(2016, 5, 20),\n",
       " datetime.date(2016, 6, 20),\n",
       " datetime.date(2016, 7, 21),\n",
       " datetime.date(2016, 8, 21),\n",
       " datetime.date(2016, 9, 21),\n",
       " datetime.date(2016, 10, 22),\n",
       " datetime.date(2016, 11, 22),\n",
       " datetime.date(2016, 12, 23),\n",
       " datetime.date(2017, 1, 23),\n",
       " datetime.date(2017, 2, 23),\n",
       " datetime.date(2017, 3, 26),\n",
       " datetime.date(2017, 4, 26),\n",
       " datetime.date(2017, 5, 27),\n",
       " datetime.date(2017, 6, 27),\n",
       " datetime.date(2017, 7, 28)]"
      ]
     },
     "execution_count": 26,
     "metadata": {},
     "output_type": "execute_result"
    }
   ],
   "source": [
    "date_list"
   ]
  },
  {
   "cell_type": "code",
   "execution_count": null,
   "metadata": {
    "collapsed": true
   },
   "outputs": [],
   "source": []
  }
 ],
 "metadata": {
  "kernelspec": {
   "display_name": "Python 3",
   "language": "python",
   "name": "python3"
  },
  "language_info": {
   "codemirror_mode": {
    "name": "ipython",
    "version": 3
   },
   "file_extension": ".py",
   "mimetype": "text/x-python",
   "name": "python",
   "nbconvert_exporter": "python",
   "pygments_lexer": "ipython3",
   "version": "3.7.6"
  }
 },
 "nbformat": 4,
 "nbformat_minor": 1
}
