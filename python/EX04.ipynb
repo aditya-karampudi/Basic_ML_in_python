{
 "cells": [
  {
   "cell_type": "markdown",
   "metadata": {},
   "source": [
    "<img src=\"http://upxacademy.com/wp-content/uploads/2016/07/upx-logo-02-e1467712070244.png\">\n",
    "# Python Basics 02\n",
    "## Exercise 04\n",
    "\n",
    "### Introducing Functions\n",
    "\n",
    "#### Greeter\n",
    "- Write a function that takes in a person's name, and prints out a greeting.\n",
    "    - The greeting must be at least three lines, and the person's name must be in each line.\n",
    "- Use your function to greet at least three different people.\n",
    "- **Bonus:** Store your three people in a list, and call your function from a `for` loop.\n",
    "\n",
    "#### Full Names\n",
    "- Write a function that takes in a first name and a last name, and prints out a nicely formatted full name, in a sentence. Your sentence could be as simple as, \"Hello, *full\\_name*.\"\n",
    "- Call your function three times, with a different name each time.\n",
    "\n",
    "#### Addition Calculator\n",
    "- Write a function that takes in two numbers, and adds them together. Make your function print out a sentence showing the two numbers, and the result.\n",
    "- Call your function with three different sets of numbers.\n",
    "\n",
    "#### Return Calculator\n",
    "- Modify *Addition Calculator* so that your function returns the sum of the two numbers. The printing should happen outside of the function.\n"
   ]
  },
  {
   "cell_type": "code",
   "execution_count": 6,
   "metadata": {},
   "outputs": [
    {
     "name": "stdout",
     "output_type": "stream",
     "text": [
      "\n",
      "\n",
      "Hello gates\n",
      "I cannot tell you the chamber of secrets gates\n",
      "I will show you gates\n",
      "\n",
      "\n",
      "Hello buffett\n",
      "I cannot tell you the chamber of secrets buffett\n",
      "I will show you buffett\n",
      "\n",
      "\n",
      "Hello steve\n",
      "I cannot tell you the chamber of secrets steve\n",
      "I will show you steve\n"
     ]
    }
   ],
   "source": [
    "#YOUR CODE HERE\n",
    "person_name = ['gates','buffett','steve']\n",
    "def name (i):\n",
    "    print(\"\\n\")\n",
    "    print (\"Hello {}\".format(i))\n",
    "    print(\"I cannot tell you the chamber of secrets {}\".format(i))\n",
    "    print(\"I will show you {}\".format(i))\n",
    "    return\n",
    "\n",
    "\n",
    "for i in person_name:\n",
    "    name(i)"
   ]
  },
  {
   "cell_type": "code",
   "execution_count": 9,
   "metadata": {},
   "outputs": [
    {
     "name": "stdout",
     "output_type": "stream",
     "text": [
      "\n",
      "\n",
      "hey bill gates\n",
      "\n",
      "\n",
      "hey warren beffett\n",
      "\n",
      "\n",
      "hey steve jobs\n"
     ]
    }
   ],
   "source": [
    "person_first_name = ['bill','warren','steve']\n",
    "person_last_name = ['gates','beffett','jobs']\n",
    "\n",
    "def greet(i,j):\n",
    "    print('\\n')\n",
    "    print(\"hey {} {}\".format(i,j))\n",
    "    return\n",
    "\n",
    "for i,j in zip(person_first_name, person_last_name):\n",
    "    greet(i,j)          "
   ]
  },
  {
   "cell_type": "code",
   "execution_count": 11,
   "metadata": {},
   "outputs": [
    {
     "name": "stdout",
     "output_type": "stream",
     "text": [
      "the sum of 12 , 54 is 66\n",
      "the sum of 23 , 76 is 99\n",
      "the sum of 43 , 12 is 55\n"
     ]
    }
   ],
   "source": [
    "data1 = [12,23,43]\n",
    "data2 = [54,76,12]\n",
    "\n",
    "i=0\n",
    "j=0\n",
    "k=0\n",
    "l=[]\n",
    "\n",
    "def summation(i,j):\n",
    "    k = i+j\n",
    "    l.append(k)\n",
    "    \n",
    "    print(\"the sum of {} , {} is {}\".format(i,j,k))\n",
    "    return\n",
    "\n",
    "for i,j in zip(data1,data2):\n",
    "    summation(i,j)\n",
    "    \n"
   ]
  },
  {
   "cell_type": "code",
   "execution_count": null,
   "metadata": {
    "collapsed": true
   },
   "outputs": [],
   "source": []
  }
 ],
 "metadata": {
  "anaconda-cloud": {},
  "kernelspec": {
   "display_name": "Python 3",
   "language": "python",
   "name": "python3"
  },
  "language_info": {
   "codemirror_mode": {
    "name": "ipython",
    "version": 3
   },
   "file_extension": ".py",
   "mimetype": "text/x-python",
   "name": "python",
   "nbconvert_exporter": "python",
   "pygments_lexer": "ipython3",
   "version": "3.6.3"
  }
 },
 "nbformat": 4,
 "nbformat_minor": 1
}
