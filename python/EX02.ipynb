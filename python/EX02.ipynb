{
 "cells": [
  {
   "cell_type": "markdown",
   "metadata": {},
   "source": [
    "## Exercise 02\n",
    "\n",
    "### Lists\n",
    "\n",
    "#### First List\n",
    "- Store the values 'python', 'c', and 'java' in a list. Print each of these values out, using their position in the list.\n",
    "\n",
    "#### First Neat List\n",
    "- Store the values 'python', 'c', and 'java' in a list. Print a statement about each of these values, using their position in the list.\n",
    "- Your statement could simply be, 'A nice programming language is *value*.'\n"
   ]
  },
  {
   "cell_type": "code",
   "execution_count": 4,
   "metadata": {},
   "outputs": [
    {
     "name": "stdout",
     "output_type": "stream",
     "text": [
      "python is a programming language\n",
      "c is a programming language\n",
      "java is a programming language\n"
     ]
    }
   ],
   "source": [
    "#YOUR CODE HERE\n",
    "list_lang = ['python','c','java']\n",
    "#print(list_lang[0])\n",
    "#print(list_lang[1])\n",
    "#print(list_lang[2])\n",
    "\n",
    "for i in list_lang:\n",
    "    print('{} is a programming language'.format(i))\n"
   ]
  },
  {
   "cell_type": "code",
   "execution_count": 37,
   "metadata": {},
   "outputs": [
    {
     "name": "stdout",
     "output_type": "stream",
     "text": [
      "index number for painting is:  2\n",
      "True\n",
      "careers in the list are programming\n",
      "careers in the list are engineering\n",
      "careers in the list are doctorate\n",
      "careers in the list are painting\n",
      "careers in the list are manufacturing\n",
      "careers in the list are astronomy\n",
      "careers in the list are: \n",
      "programming, engineering, doctorate, painting, manufacturing, astronomy\n"
     ]
    }
   ],
   "source": [
    "careers = ['engineering','doctorate', 'painting','manufacturing']\n",
    "\n",
    "print \"index number for painting is: \", careers.index(\"painting\")\n",
    "\n",
    "print('manufacturing' in careers)\n",
    "\n",
    "careers.append('astronomy')\n",
    "\n",
    "careers.insert(0,'programming')\n",
    "\n",
    "for i in careers:\n",
    "    print('careers in the list are {}'.format(i))\n",
    "print('careers in the list are: ')\n",
    "careers = ', '.join(careers)\n",
    "print(careers)\n"
   ]
  },
  {
   "cell_type": "code",
   "execution_count": null,
   "metadata": {},
   "outputs": [],
   "source": []
  },
  {
   "cell_type": "markdown",
   "metadata": {},
   "source": [
    "#### Working List\n",
    "- Make a list that includes four careers, such as 'programmer' and 'truck driver'.\n",
    "- Use the *list.index()* function to find the index of one career in your list.\n",
    "- Use the *in* function to show that this career is in your list.\n",
    "- Use the *append()* function to add a new career to your list.\n",
    "- Use the *insert()* function to add a new career at the beginning of the list.\n",
    "- Use a loop to show all the careers in your list.\n",
    "\n",
    "#### Ordered Working List\n",
    "- Start with the list you created in *Working List*.\n",
    "- You are going to print out the list in a number of different orders.\n",
    "- Each time you print the list, use a for loop rather than printing the raw list.\n",
    "- Print a message each time telling us what order we should see the list in.\n",
    "    - Print the list in its original order.\n",
    "    - Print the list in alphabetical order.\n",
    "    - Print the list in reverse alphabetical order.\n",
    "    - Print the list in the reverse order from what it started.\n",
    "    - Permanently sort the list in alphabetical order, and then print it out.\n",
    "    - Permanently sort the list in reverse alphabetical order, and then print it out.\n",
    "\n",
    "#### Ordered Numbers\n",
    "- Make a list of 5 numbers, in a random order.\n",
    "- You are going to print out the list in a number of different orders.\n",
    "- Each time you print the list, use a for loop rather than printing the raw list.\n",
    "- Print a message each time telling us what order we should see the list in.\n",
    "    - Print the numbers in the original order.\n",
    "    - Print the numbers in increasing order.\n",
    "    - Print the numbers in decreasing order.\n",
    "    - Print the numbers in the reverse order from how they started.\n",
    "    - Permanently sort the numbers in increasing order, and then print them out.\n",
    "    - Permanently sort the numbers in descreasing order, and then print them out.\n",
    "\n",
    "#### List Lengths\n",
    "- Copy two or three of the lists you made from the previous exercises, or make up two or three new lists.\n",
    "- Print out a series of statements that tell us how long each list is."
   ]
  },
  {
   "cell_type": "code",
   "execution_count": 35,
   "metadata": {},
   "outputs": [
    {
     "name": "stdout",
     "output_type": "stream",
     "text": [
      "the original format of list: programming, engineering, doctorate, painting, manufacturing, astronomy\n",
      "the alphabetical order of list is: astronomy, doctorate, engineering, manufacturing, painting, programming\n",
      "the reverse alphabetical order of list is: programming, painting, manufacturing, engineering, doctorate, astronomy\n",
      "astronomy, doctorate, engineering, manufacturing, painting, programming\n",
      "programming, painting, manufacturing, engineering, doctorate, astronomy\n"
     ]
    }
   ],
   "source": [
    "\n",
    "print('the original format of list: {}'.format(', '.join(careers)))\n",
    "\n",
    "print('the alphabetical order of list is: {}'.format(', '.join(sorted(careers))))\n",
    "\n",
    "print('the reverse alphabetical order of list is: {}'.format(', '.join(sorted(careers, reverse=True))))\n",
    "\n",
    "careers_asc = sorted(careers)\n",
    "careers_asc = ', '.join(careers_asc)\n",
    "careers_des = sorted(careers, reverse=True)\n",
    "careers_des = ', '.join(careers_des)\n",
    "\n",
    "print(careers_asc)\n",
    "print(careers_des)\n"
   ]
  },
  {
   "cell_type": "code",
   "execution_count": 32,
   "metadata": {},
   "outputs": [
    {
     "data": {
      "text/plain": [
       "['programming',\n",
       " 'engineering',\n",
       " 'doctorate',\n",
       " 'painting',\n",
       " 'manufacturing',\n",
       " 'astronomy']"
      ]
     },
     "execution_count": 32,
     "metadata": {},
     "output_type": "execute_result"
    }
   ],
   "source": [
    "careers"
   ]
  },
  {
   "cell_type": "code",
   "execution_count": 38,
   "metadata": {},
   "outputs": [
    {
     "ename": "SyntaxError",
     "evalue": "invalid syntax (<ipython-input-38-0284f3d37dd3>, line 1)",
     "output_type": "error",
     "traceback": [
      "\u001b[0;36m  File \u001b[0;32m\"<ipython-input-38-0284f3d37dd3>\"\u001b[0;36m, line \u001b[0;32m1\u001b[0m\n\u001b[0;31m    Ordered Numbers\u001b[0m\n\u001b[0m                  ^\u001b[0m\n\u001b[0;31mSyntaxError\u001b[0m\u001b[0;31m:\u001b[0m invalid syntax\n"
     ]
    }
   ],
   "source": [
    "Ordered Numbers\n",
    "Make a list of 5 numbers, in a random order.\n",
    "You are going to print out the list in a number of different orders.\n",
    "Each time you print the list, use a for loop rather than printing the raw list.\n",
    "Print a message each time telling us what order we should see the list in.\n",
    "Print the numbers in the original order.\n",
    "Print the numbers in increasing order.\n",
    "Print the numbers in decreasing order.\n",
    "Print the numbers in the reverse order from how they started.\n",
    "Permanently sort the numbers in increasing order, and then print them out.\n",
    "Permanently sort the numbers in descreasing order, and then print them out."
   ]
  },
  {
   "cell_type": "code",
   "execution_count": 51,
   "metadata": {},
   "outputs": [
    {
     "name": "stdout",
     "output_type": "stream",
     "text": [
      "The original sequence is: \n",
      "23\n",
      "1\n",
      "43\n",
      "14\n",
      "7\n",
      "The increasing order of sequence is: \n",
      "1\n",
      "7\n",
      "14\n",
      "23\n",
      "43\n",
      "The decreasing order of sequence is: \n",
      "43\n",
      "23\n",
      "14\n",
      "7\n",
      "1\n",
      "The reverse order of sequence is: \n",
      "7\n",
      "14\n",
      "43\n",
      "1\n",
      "23\n",
      "1 7 14 23 43\n",
      "43 23 14 7 1\n"
     ]
    }
   ],
   "source": [
    "numbers = [23,1,43,14,7]\n",
    "print(\"The original sequence is: \")\n",
    "for i in numbers:\n",
    "    print(i)\n",
    "    \n",
    "i=0\n",
    "print(\"The increasing order of sequence is: \")\n",
    "for i in sorted(numbers):\n",
    "    print(i)\n",
    "\n",
    "i=0\n",
    "print(\"The decreasing order of sequence is: \")\n",
    "for i in sorted(numbers, reverse=True):\n",
    "    print(i)\n",
    "    \n",
    "i=0\n",
    "print(\"The reverse order of sequence is: \")\n",
    "for i in reversed(numbers):\n",
    "    print(i)\n",
    "\n",
    "numbers_asc = sorted(numbers)\n",
    "numbers_asc = \" \".join(map(str, numbers_asc))\n",
    "\n",
    "\n",
    "numbers_dsc = sorted(numbers, reverse=True)\n",
    "numbers_dsc = \" \".join(map(str, numbers_dsc))\n",
    "print(numbers_asc)\n",
    "print(numbers_dsc)"
   ]
  },
  {
   "cell_type": "code",
   "execution_count": null,
   "metadata": {
    "collapsed": true
   },
   "outputs": [],
   "source": []
  },
  {
   "cell_type": "markdown",
   "metadata": {},
   "source": [
    "#### Famous People\n",
    "- Make a list that includes the names of four famous people.\n",
    "- Remove each person from the list, one at a time, using each of the four methods we have just seen:\n",
    "    - Pop the last item from the list, and pop any item except the last item.\n",
    "    - Remove one item by its position, and one item by its value.\n",
    "- Print out a message that there are no famous people left in your list, and print your list to prove that it is empty."
   ]
  },
  {
   "cell_type": "code",
   "execution_count": 71,
   "metadata": {},
   "outputs": [
    {
     "name": "stdout",
     "output_type": "stream",
     "text": [
      "[]\n"
     ]
    },
    {
     "data": {
      "text/plain": [
       "False"
      ]
     },
     "execution_count": 71,
     "metadata": {},
     "output_type": "execute_result"
    }
   ],
   "source": [
    "#YOUR CODE HERE\n",
    "famous = ['albert', 'newton','tesla','steve']\n",
    "famous.pop()\n",
    "famous.pop(-2)\n",
    "del famous[1]\n",
    "famous.remove('albert')\n",
    "print(famous)\n",
    "'newton' in famous\n"
   ]
  },
  {
   "cell_type": "markdown",
   "metadata": {},
   "source": [
    "#### Alphabet Slices\n",
    "- Store the first ten letters of the alphabet in a list.\n",
    "- Use a slice to print out the first three letters of the alphabet.\n",
    "- Use a slice to print out any three letters from the middle of your list.\n",
    "- Use a slice to print out the letters from any point in the middle of your list, to the end.\n",
    "\n",
    "#### Protected List\n",
    "- Your goal in this exercise is to prove that copying a list protects the original list.\n",
    "- Make a list with three people's names in it.\n",
    "- Use a slice to make a copy of the entire list.\n",
    "- Add at least two new names to the new copy of the list.\n",
    "- Make a loop that prints out all of the names in the original list, along with a message that this is the original list.\n",
    "- Make a loop that prints out all of the names in the copied list, along with a message that this is the copied list."
   ]
  },
  {
   "cell_type": "code",
   "execution_count": 91,
   "metadata": {},
   "outputs": [
    {
     "name": "stdout",
     "output_type": "stream",
     "text": [
      "a, b, c\n",
      "f, g, h\n",
      "f, g, h, i, j\n",
      "the original list is: \n",
      "happy\n",
      "glad\n",
      "awesome\n",
      "joyful\n",
      "excited\n",
      "this is copied list: \n",
      "happy\n",
      "glad\n",
      "awesome\n",
      "joyful\n",
      "excited\n"
     ]
    }
   ],
   "source": [
    "#YOUR CODE HERE\n",
    "import string\n",
    "\n",
    "alpha = list(string.ascii_lowercase[:10])\n",
    "\n",
    "print(', '.join(alpha[:3]))\n",
    "\n",
    "print(', '.join(alpha[5:8]))\n",
    "\n",
    "print(', '.join(alpha[5:]))\n",
    "\n",
    "\n",
    "emotions = ['happy','glad','awesome']\n",
    "\n",
    "copy_emotions = emotions\n",
    "\n",
    "copy_emotions.extend(['joyful','excited'])\n",
    "\n",
    "print(\"the original list is: \")\n",
    "for i in emotions:\n",
    "    print(i)\n",
    "\n",
    "i=0\n",
    "\n",
    "print('this is copied list: ')\n",
    "for i in copy_emotions:\n",
    "    print(i)"
   ]
  },
  {
   "cell_type": "code",
   "execution_count": 92,
   "metadata": {},
   "outputs": [
    {
     "data": {
      "text/plain": [
       "['happy', 'glad', 'awesome', 'joyful', 'excited']"
      ]
     },
     "execution_count": 92,
     "metadata": {},
     "output_type": "execute_result"
    }
   ],
   "source": [
    "emotions"
   ]
  },
  {
   "cell_type": "markdown",
   "metadata": {},
   "source": [
    "#### First Twenty\n",
    "- Use the *range()* function to store the first twenty numbers (1-20) in a list, and print them out.\n",
    "\n",
    "#### Five Wallets\n",
    "- Imagine five wallets with different amounts of cash in them. Store these five values in a list, and print out the following sentences:\n",
    "    - \"The fattest wallet has $ *value* in it.\"\n",
    "    - \"The skinniest wallet has $ *value* in it.\"\n",
    "    - \"All together, these wallets have $ *value* in them.\""
   ]
  },
  {
   "cell_type": "code",
   "execution_count": 103,
   "metadata": {},
   "outputs": [
    {
     "name": "stdout",
     "output_type": "stream",
     "text": [
      "the fattest wallet has 543 in it -- the skinniest wallet has 144  all together the wallet has 1552\n"
     ]
    }
   ],
   "source": [
    "#YOUR CODE HERE\n",
    "firsttwenty = range(20)\n",
    "\n",
    "wallet = [234,543,144,199,432]\n",
    "\n",
    "print('the fattest wallet has {} in it -- the skinniest wallet has {}  all together the wallet has {}'.format(max(wallet), min(wallet), sum(wallet)))\n"
   ]
  },
  {
   "cell_type": "code",
   "execution_count": null,
   "metadata": {},
   "outputs": [],
   "source": []
  },
  {
   "cell_type": "markdown",
   "metadata": {},
   "source": [
    "#### Multiples of Ten\n",
    "- Make a list of the first ten multiples of ten (10, 20, 30... 90, 100). There are a number of ways to do this, but try to do it using a list comprehension. Print out your list.\n",
    "\n",
    "#### Cubes\n",
    "- We saw how to make a list of the first ten squares. Make a list of the first ten cubes (1, 8, 27... 1000) using a list comprehension, and print them out.\n",
    "\n",
    "#### Awesomeness\n",
    "- Store five names in a list. Make a second list that adds the phrase \"is awesome!\" to each name, using a list comprehension. Print out the awesome version of the names.\n"
   ]
  },
  {
   "cell_type": "code",
   "execution_count": 119,
   "metadata": {},
   "outputs": [
    {
     "name": "stdout",
     "output_type": "stream",
     "text": [
      "[10, 20, 30, 40, 50, 60, 70, 80, 90]\n",
      "[1, 8, 27, 64, 125, 216, 343, 512, 729]\n",
      "['cooking is awesome', 'baking is awesome', 'napping is awesome', 'dancing is awesome', 'playing is awesome']\n"
     ]
    }
   ],
   "source": [
    "ten_multiples = []\n",
    "i=0\n",
    "\n",
    "for i in range(1,10):\n",
    "    ten_multiples.append(i*10)\n",
    "    i=i+1\n",
    "print(ten_multiples)\n",
    "\n",
    "i=1\n",
    "ten_cubes = []\n",
    "for i in range(1,10):\n",
    "    x = i*i*i\n",
    "    ten_cubes.append(x)\n",
    "    i=i+1\n",
    "print(ten_cubes)\n",
    "\n",
    "names = ['cooking', 'baking', 'napping','dancing','playing']\n",
    "\n",
    "names = map((lambda x: x+ ' is awesome'), names)\n",
    "\n",
    "print(names)\n"
   ]
  },
  {
   "cell_type": "markdown",
   "metadata": {},
   "source": [
    "#### Listing a Sentence\n",
    "- Store a single sentence in a variable. Use a for loop to print each character from your sentence on a separate line.\n",
    "\n",
    "#### Sentence List\n",
    "- Store a single sentence in a variable. Create a list from your sentence. Print your raw list (don't use a loop, just print the list).\n",
    "\n",
    "#### Sentence Slices\n",
    "- Store a sentence in a variable. Using slices, print out the first five characters, any five consecutive characters from the middle of the sentence, and the last five characters of the sentence.\n",
    "\n",
    "#### Finding Python\n",
    "- Store a sentence in a variable, making sure you use the word *Python* at least twice in the sentence.\n",
    "- Use the *in* keyword to prove that the word *Python* is actually in the sentence.\n",
    "- Use the *find()* function to show where the word *Python* first appears in the sentence.\n",
    "- Use the *rfind()* function to show the last place *Python* appears in the sentence.\n",
    "- Use the *count()* function to show how many times the word *Python* appears in your sentence.\n",
    "- Use the *split()* function to break your sentence into a list of words. Print the raw list, and use a loop to print each word on its own line.\n",
    "- Use the *replace()* function to change *Python* to *Ruby* in your sentence."
   ]
  },
  {
   "cell_type": "code",
   "execution_count": 141,
   "metadata": {},
   "outputs": [
    {
     "name": "stdout",
     "output_type": "stream",
     "text": [
      "['hi', 'there!', 'this', 'is', 'exercise', '2', 'in', 'basics', 'of', 'python']\n",
      "The first occurance of python word in a sentence: \n",
      "23\n",
      "The last occurance of python word in a sentence: \n",
      "63\n",
      "total number of times python occured\n",
      "2\n",
      "this\n",
      "is\n",
      "programming\n",
      "in\n",
      "python\n",
      "and\n",
      "I\n",
      "will\n",
      "get\n",
      "a\n",
      "good\n",
      "grip\n",
      "in\n",
      "in\n",
      "python\n"
     ]
    },
    {
     "data": {
      "text/plain": [
       "'this is programming in ruby and I will get a good grip in in ruby'"
      ]
     },
     "execution_count": 141,
     "metadata": {},
     "output_type": "execute_result"
    }
   ],
   "source": [
    "#YOUR CODE HERE\n",
    "sent = \"hi there! this is exercise 2 in basics of python\"\n",
    "list_sent = sent.split()\n",
    "print(list_sent)\n",
    "\n",
    "pysent = \"this is programming in python and I will get a good grip in in python\"\n",
    "\n",
    "'python' in pysent\n",
    "\n",
    "print(\"The first occurance of python word in a sentence: \")\n",
    "print(pysent.find('python'))\n",
    "\n",
    "print(\"The last occurance of python word in a sentence: \")\n",
    "print(pysent.rfind('python'))\n",
    "\n",
    "print(\"total number of times python occured\")\n",
    "print(pysent.count('python'))\n",
    "\n",
    "sent_break = pysent.split()\n",
    "\n",
    "for i in sent_break:\n",
    "    print(i)\n",
    "\n",
    "    \n",
    "pysent.replace('python','ruby')"
   ]
  },
  {
   "cell_type": "code",
   "execution_count": null,
   "metadata": {},
   "outputs": [],
   "source": []
  },
  {
   "cell_type": "code",
   "execution_count": null,
   "metadata": {},
   "outputs": [],
   "source": []
  },
  {
   "cell_type": "code",
   "execution_count": null,
   "metadata": {
    "collapsed": true
   },
   "outputs": [],
   "source": []
  }
 ],
 "metadata": {
  "anaconda-cloud": {},
  "kernelspec": {
   "display_name": "Python 3",
   "language": "python",
   "name": "python3"
  },
  "language_info": {
   "codemirror_mode": {
    "name": "ipython",
    "version": 3
   },
   "file_extension": ".py",
   "mimetype": "text/x-python",
   "name": "python",
   "nbconvert_exporter": "python",
   "pygments_lexer": "ipython3",
   "version": "3.7.6"
  }
 },
 "nbformat": 4,
 "nbformat_minor": 1
}
