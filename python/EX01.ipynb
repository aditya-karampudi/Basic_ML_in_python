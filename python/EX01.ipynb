{
 "cells": [
  {
   "cell_type": "markdown",
   "metadata": {},
   "source": [
    "## Exercise 01\n",
    "\n",
    "#### Variables\n",
    "\n",
    "###### Hello World - variable\n",
    "\n",
    "    Store your own version of the message \"Hello World\" in a variable, and print it.\n",
    "\n",
    "###### One Variable, Two Messages:\n",
    "\n",
    "    Store a message in a variable, and then print that message.\n",
    "    Store a new message in the same variable, and then print that new message.\n",
    "\n",
    "###### First Name Cases\n",
    "\n",
    "    Store your first name, in lowercase, in a variable.\n",
    "    Using that one variable, print your name in lowercase, Titlecase, and UPPERCASE.\n",
    "\n",
    "###### About This Person\n",
    "\n",
    "    Choose a person you look up to. Store their first and last names in separate variables.\n",
    "    Use concatenation to make a sentence about this person, and store that sentence in a variable.-\n",
    "    Print the sentence.\n",
    "\n",
    "###### Name Strip\n",
    "\n",
    "    Store your first name in a variable, but include at least two kinds of whitespace on each side of your name.\n",
    "    Print your name as it is stored.\n",
    "    Print your name with whitespace stripped from the left side, then from the right side, then from both sides.\n",
    "    \n",
    "\n"
   ]
  },
  {
   "cell_type": "code",
   "execution_count": 1,
   "metadata": {},
   "outputs": [
    {
     "name": "stdout",
     "output_type": "stream",
     "text": [
      "Hello World\n"
     ]
    }
   ],
   "source": [
    "first_code = 'Hello World'\n",
    "print(first_code)"
   ]
  },
  {
   "cell_type": "code",
   "execution_count": 2,
   "metadata": {},
   "outputs": [
    {
     "name": "stdout",
     "output_type": "stream",
     "text": [
      "hello there\n",
      "replacing the string with new characters\n"
     ]
    }
   ],
   "source": [
    "second_quest = 'hello there'\n",
    "print(second_quest)\n",
    "\n",
    "second_quest = 'replacing the string with new characters'\n",
    "print(second_quest)"
   ]
  },
  {
   "cell_type": "code",
   "execution_count": 3,
   "metadata": {},
   "outputs": [
    {
     "name": "stdout",
     "output_type": "stream",
     "text": [
      "mohan aditya\n",
      "Mohan Aditya\n",
      "MOHAN ADITYA\n"
     ]
    }
   ],
   "source": [
    "name = 'mohan aditya'\n",
    "print(name)\n",
    "print(name.title())\n",
    "print(name.upper())\n"
   ]
  },
  {
   "cell_type": "code",
   "execution_count": 5,
   "metadata": {},
   "outputs": [
    {
     "data": {
      "text/plain": [
       "'Abdul Kalam'"
      ]
     },
     "execution_count": 5,
     "metadata": {},
     "output_type": "execute_result"
    }
   ],
   "source": [
    "first = 'Abdul '\n",
    "last = 'Kalam'\n",
    "full_name = first + last\n",
    "full_name"
   ]
  },
  {
   "cell_type": "code",
   "execution_count": 6,
   "metadata": {},
   "outputs": [
    {
     "name": "stdout",
     "output_type": "stream",
     "text": [
      " Mohanaditya \n",
      "Mohanaditya \n",
      " Mohanaditya\n",
      "Mohanaditya\n"
     ]
    }
   ],
   "source": [
    "name = ' Mohanaditya '\n",
    "print(name)\n",
    "print(name[1:])\n",
    "print(name[:-1])\n",
    "print(name.strip())"
   ]
  },
  {
   "cell_type": "code",
   "execution_count": null,
   "metadata": {
    "collapsed": true
   },
   "outputs": [],
   "source": []
  }
 ],
 "metadata": {
  "anaconda-cloud": {},
  "kernelspec": {
   "display_name": "Python 3",
   "language": "python",
   "name": "python3"
  },
  "language_info": {
   "codemirror_mode": {
    "name": "ipython",
    "version": 3
   },
   "file_extension": ".py",
   "mimetype": "text/x-python",
   "name": "python",
   "nbconvert_exporter": "python",
   "pygments_lexer": "ipython3",
   "version": "3.7.6"
  }
 },
 "nbformat": 4,
 "nbformat_minor": 1
}
