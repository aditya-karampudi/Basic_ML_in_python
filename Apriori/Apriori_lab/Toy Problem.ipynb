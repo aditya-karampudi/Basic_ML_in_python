{
 "cells": [
  {
   "cell_type": "code",
   "execution_count": 1,
   "metadata": {},
   "outputs": [],
   "source": [
    "def load_dataset():\n",
    "\n",
    "    \"Load the sample dataset.\"\n",
    "\n",
    "    return [[1, 3, 4], [2, 3, 5], [1, 2, 3, 5], [2, 5]]\n",
    "\n",
    "\n",
    "\n",
    "\n",
    "\n",
    "def createC1(dataset):\n",
    "\n",
    "    \"Create a list of candidate item sets of size one.\"\n",
    "\n",
    "    c1 = []\n",
    "\n",
    "    for transaction in dataset:\n",
    "\n",
    "        for item in transaction:\n",
    "\n",
    "            if not [item] in c1:\n",
    "\n",
    "                c1.append([item])\n",
    "\n",
    "    c1.sort()\n",
    "\n",
    "    #frozenset because it will be a kept of a dictionary.\n",
    "\n",
    "    return map(frozenset, c1)\n",
    "\n",
    "\n",
    "\n",
    "\n",
    "\n",
    "def scanD(dataset, candidates, min_support):\n",
    "\n",
    "    \"Returns all candidates that meets a minimum support level\"\n",
    "\n",
    "    sscnt = {}\n",
    "\n",
    "    for tid in dataset:\n",
    "\n",
    "        for can in candidates:\n",
    "\n",
    "            if can.issubset(tid):\n",
    "\n",
    "                sscnt.setdefault(can, 0)\n",
    "\n",
    "                sscnt[can] += 1\n",
    "\n",
    "\n",
    "\n",
    "    num_items = float(len(dataset))\n",
    "\n",
    "    retlist = []\n",
    "\n",
    "    support_data = {}\n",
    "\n",
    "    for key in sscnt:\n",
    "\n",
    "        support = sscnt[key] / num_items\n",
    "\n",
    "        if support >= min_support:\n",
    "\n",
    "            retlist.insert(0, key)\n",
    "\n",
    "        support_data[key] = support\n",
    "\n",
    "    return retlist, support_data\n",
    "\n",
    "\n",
    "\n",
    "\n",
    "\n",
    "def aprioriGen(freq_sets, k):\n",
    "\n",
    "    \"Generate the joint transactions from candidate sets\"\n",
    "\n",
    "    retList = []\n",
    "\n",
    "    lenLk = len(freq_sets)\n",
    "\n",
    "    for i in range(lenLk):\n",
    "\n",
    "        for j in range(i + 1, lenLk):\n",
    "\n",
    "            L1 = list(freq_sets[i])[:k - 2]\n",
    "\n",
    "            L2 = list(freq_sets[j])[:k - 2]\n",
    "\n",
    "            L1.sort()\n",
    "\n",
    "            L2.sort()\n",
    "\n",
    "            if L1 == L2:\n",
    "\n",
    "                retList.append(freq_sets[i] | freq_sets[j])\n",
    "\n",
    "    return retList\n",
    "\n",
    "\n",
    "\n",
    "\n",
    "\n",
    "def apriori(dataset, minsupport=0.5):\n",
    "\n",
    "    \"Generate a list of candidate item sets\"\n",
    "\n",
    "    C1 = createC1(dataset)\n",
    "\n",
    "    D = map(set, dataset)\n",
    "\n",
    "    L1, support_data = scanD(D, C1, minsupport)\n",
    "\n",
    "    L = [L1]\n",
    "\n",
    "    k = 2\n",
    "\n",
    "    while (len(L[k - 2]) > 0):\n",
    "\n",
    "        Ck = aprioriGen(L[k - 2], k)\n",
    "\n",
    "        Lk, supK = scanD(D, Ck, minsupport)\n",
    "\n",
    "        support_data.update(supK)\n",
    "\n",
    "        L.append(Lk)\n",
    "\n",
    "        k += 1\n",
    "\n",
    "\n",
    "\n",
    "    return L, support_data"
   ]
  },
  {
   "cell_type": "code",
   "execution_count": null,
   "metadata": {
    "collapsed": true
   },
   "outputs": [],
   "source": []
  },
  {
   "cell_type": "code",
   "execution_count": 2,
   "metadata": {
    "scrolled": true
   },
   "outputs": [
    {
     "name": "stdout",
     "output_type": "stream",
     "text": [
      "frozenset([5]) --> frozenset([2]) conf: 1.0\n",
      "frozenset([2]) --> frozenset([5]) conf: 0.75\n",
      "frozenset([6]) --> frozenset([5]) conf: 0.75\n",
      "frozenset([5]) --> frozenset([6]) conf: 1.0\n",
      "frozenset([6]) --> frozenset([1]) conf: 0.75\n",
      "frozenset([1]) --> frozenset([6]) conf: 1.0\n",
      "frozenset([6]) --> frozenset([4]) conf: 0.75\n",
      "frozenset([4]) --> frozenset([6]) conf: 1.0\n",
      "frozenset([3]) --> frozenset([2]) conf: 1.0\n",
      "frozenset([2]) --> frozenset([3]) conf: 0.75\n",
      "frozenset([6]) --> frozenset([2]) conf: 1.0\n",
      "frozenset([2]) --> frozenset([6]) conf: 1.0\n",
      "frozenset([2]) --> frozenset([1]) conf: 0.75\n",
      "frozenset([1]) --> frozenset([2]) conf: 1.0\n",
      "frozenset([6]) --> frozenset([3]) conf: 0.75\n",
      "frozenset([3]) --> frozenset([6]) conf: 1.0\n",
      "frozenset([4]) --> frozenset([2]) conf: 1.0\n",
      "frozenset([2]) --> frozenset([4]) conf: 0.75\n",
      "freqSet: frozenset([1, 2, 6])\n",
      "frozenset([2, 6]) --> frozenset([1]) conf: 0.75\n",
      "frozenset([1, 6]) --> frozenset([2]) conf: 1.0\n",
      "frozenset([1, 2]) --> frozenset([6]) conf: 1.0\n",
      "m: 1 Hmp1 now: [frozenset([1]), frozenset([2]), frozenset([6])]\n",
      "Hmp1: [frozenset([1, 2]), frozenset([1, 6]), frozenset([2, 6])]\n",
      "frozenset([6]) --> frozenset([1, 2]) conf: 0.75\n",
      "frozenset([2]) --> frozenset([1, 6]) conf: 0.75\n",
      "frozenset([1]) --> frozenset([2, 6]) conf: 1.0\n",
      "Hmp1 after calculate: [frozenset([1, 2]), frozenset([1, 6]), frozenset([2, 6])]\n",
      "freqSet: frozenset([1, 2, 6])\n",
      "frozenset([6]) --> frozenset([1, 2]) conf: 0.75\n",
      "frozenset([2]) --> frozenset([1, 6]) conf: 0.75\n",
      "frozenset([1]) --> frozenset([2, 6]) conf: 1.0\n",
      "m: 2 Hmp1 now: [frozenset([1, 2]), frozenset([1, 6]), frozenset([2, 6])]\n",
      "freqSet: frozenset([2, 4, 6])\n",
      "frozenset([4, 6]) --> frozenset([2]) conf: 1.0\n",
      "frozenset([2, 6]) --> frozenset([4]) conf: 0.75\n",
      "frozenset([2, 4]) --> frozenset([6]) conf: 1.0\n",
      "m: 1 Hmp1 now: [frozenset([2]), frozenset([4]), frozenset([6])]\n",
      "Hmp1: [frozenset([2, 4]), frozenset([2, 6]), frozenset([4, 6])]\n",
      "frozenset([6]) --> frozenset([2, 4]) conf: 0.75\n",
      "frozenset([4]) --> frozenset([2, 6]) conf: 1.0\n",
      "frozenset([2]) --> frozenset([4, 6]) conf: 0.75\n",
      "Hmp1 after calculate: [frozenset([2, 4]), frozenset([2, 6]), frozenset([4, 6])]\n",
      "freqSet: frozenset([2, 4, 6])\n",
      "frozenset([6]) --> frozenset([2, 4]) conf: 0.75\n",
      "frozenset([4]) --> frozenset([2, 6]) conf: 1.0\n",
      "frozenset([2]) --> frozenset([4, 6]) conf: 0.75\n",
      "m: 2 Hmp1 now: [frozenset([2, 4]), frozenset([2, 6]), frozenset([4, 6])]\n",
      "freqSet: frozenset([2, 5, 6])\n",
      "frozenset([5, 6]) --> frozenset([2]) conf: 1.0\n",
      "frozenset([2, 6]) --> frozenset([5]) conf: 0.75\n",
      "frozenset([2, 5]) --> frozenset([6]) conf: 1.0\n",
      "m: 1 Hmp1 now: [frozenset([2]), frozenset([5]), frozenset([6])]\n",
      "Hmp1: [frozenset([2, 5]), frozenset([2, 6]), frozenset([5, 6])]\n",
      "frozenset([6]) --> frozenset([2, 5]) conf: 0.75\n",
      "frozenset([5]) --> frozenset([2, 6]) conf: 1.0\n",
      "frozenset([2]) --> frozenset([5, 6]) conf: 0.75\n",
      "Hmp1 after calculate: [frozenset([2, 5]), frozenset([2, 6]), frozenset([5, 6])]\n",
      "freqSet: frozenset([2, 5, 6])\n",
      "frozenset([6]) --> frozenset([2, 5]) conf: 0.75\n",
      "frozenset([5]) --> frozenset([2, 6]) conf: 1.0\n",
      "frozenset([2]) --> frozenset([5, 6]) conf: 0.75\n",
      "m: 2 Hmp1 now: [frozenset([2, 5]), frozenset([2, 6]), frozenset([5, 6])]\n",
      "freqSet: frozenset([2, 3, 6])\n",
      "frozenset([3, 6]) --> frozenset([2]) conf: 1.0\n",
      "frozenset([2, 6]) --> frozenset([3]) conf: 0.75\n",
      "frozenset([2, 3]) --> frozenset([6]) conf: 1.0\n",
      "m: 1 Hmp1 now: [frozenset([2]), frozenset([3]), frozenset([6])]\n",
      "Hmp1: [frozenset([2, 3]), frozenset([2, 6]), frozenset([3, 6])]\n",
      "frozenset([6]) --> frozenset([2, 3]) conf: 0.75\n",
      "frozenset([3]) --> frozenset([2, 6]) conf: 1.0\n",
      "frozenset([2]) --> frozenset([3, 6]) conf: 0.75\n",
      "Hmp1 after calculate: [frozenset([2, 3]), frozenset([2, 6]), frozenset([3, 6])]\n",
      "freqSet: frozenset([2, 3, 6])\n",
      "frozenset([6]) --> frozenset([2, 3]) conf: 0.75\n",
      "frozenset([3]) --> frozenset([2, 6]) conf: 1.0\n",
      "frozenset([2]) --> frozenset([3, 6]) conf: 0.75\n",
      "m: 2 Hmp1 now: [frozenset([2, 3]), frozenset([2, 6]), frozenset([3, 6])]\n",
      "brl: [(frozenset([5]), frozenset([2]), 1.0), (frozenset([2]), frozenset([5]), 0.75), (frozenset([6]), frozenset([5]), 0.75), (frozenset([5]), frozenset([6]), 1.0), (frozenset([6]), frozenset([1]), 0.75), (frozenset([1]), frozenset([6]), 1.0), (frozenset([6]), frozenset([4]), 0.75), (frozenset([4]), frozenset([6]), 1.0), (frozenset([3]), frozenset([2]), 1.0), (frozenset([2]), frozenset([3]), 0.75), (frozenset([6]), frozenset([2]), 1.0), (frozenset([2]), frozenset([6]), 1.0), (frozenset([2]), frozenset([1]), 0.75), (frozenset([1]), frozenset([2]), 1.0), (frozenset([6]), frozenset([3]), 0.75), (frozenset([3]), frozenset([6]), 1.0), (frozenset([4]), frozenset([2]), 1.0), (frozenset([2]), frozenset([4]), 0.75), (frozenset([2, 6]), frozenset([1]), 0.75), (frozenset([1, 6]), frozenset([2]), 1.0), (frozenset([1, 2]), frozenset([6]), 1.0), (frozenset([6]), frozenset([1, 2]), 0.75), (frozenset([2]), frozenset([1, 6]), 0.75), (frozenset([1]), frozenset([2, 6]), 1.0), (frozenset([6]), frozenset([1, 2]), 0.75), (frozenset([2]), frozenset([1, 6]), 0.75), (frozenset([1]), frozenset([2, 6]), 1.0), (frozenset([4, 6]), frozenset([2]), 1.0), (frozenset([2, 6]), frozenset([4]), 0.75), (frozenset([2, 4]), frozenset([6]), 1.0), (frozenset([6]), frozenset([2, 4]), 0.75), (frozenset([4]), frozenset([2, 6]), 1.0), (frozenset([2]), frozenset([4, 6]), 0.75), (frozenset([6]), frozenset([2, 4]), 0.75), (frozenset([4]), frozenset([2, 6]), 1.0), (frozenset([2]), frozenset([4, 6]), 0.75), (frozenset([5, 6]), frozenset([2]), 1.0), (frozenset([2, 6]), frozenset([5]), 0.75), (frozenset([2, 5]), frozenset([6]), 1.0), (frozenset([6]), frozenset([2, 5]), 0.75), (frozenset([5]), frozenset([2, 6]), 1.0), (frozenset([2]), frozenset([5, 6]), 0.75), (frozenset([6]), frozenset([2, 5]), 0.75), (frozenset([5]), frozenset([2, 6]), 1.0), (frozenset([2]), frozenset([5, 6]), 0.75), (frozenset([3, 6]), frozenset([2]), 1.0), (frozenset([2, 6]), frozenset([3]), 0.75), (frozenset([2, 3]), frozenset([6]), 1.0), (frozenset([6]), frozenset([2, 3]), 0.75), (frozenset([3]), frozenset([2, 6]), 1.0), (frozenset([2]), frozenset([3, 6]), 0.75), (frozenset([6]), frozenset([2, 3]), 0.75), (frozenset([3]), frozenset([2, 6]), 1.0), (frozenset([2]), frozenset([3, 6]), 0.75)]\n"
     ]
    }
   ],
   "source": [
    "import apriori\n",
    "dataset = load_dataset()"
   ]
  },
  {
   "cell_type": "code",
   "execution_count": 7,
   "metadata": {
    "collapsed": true
   },
   "outputs": [],
   "source": []
  },
  {
   "cell_type": "code",
   "execution_count": 4,
   "metadata": {},
   "outputs": [
    {
     "data": {
      "text/plain": [
       "[frozenset({1}),\n",
       " frozenset({2}),\n",
       " frozenset({3}),\n",
       " frozenset({4}),\n",
       " frozenset({5})]"
      ]
     },
     "execution_count": 4,
     "metadata": {},
     "output_type": "execute_result"
    }
   ],
   "source": [
    "c1 = apriori.createC1(dataset)\n",
    "c1"
   ]
  },
  {
   "cell_type": "code",
   "execution_count": 5,
   "metadata": {},
   "outputs": [
    {
     "data": {
      "text/plain": [
       "[{1, 3, 4}, {2, 3, 5}, {1, 2, 3, 5}, {2, 5}]"
      ]
     },
     "execution_count": 5,
     "metadata": {},
     "output_type": "execute_result"
    }
   ],
   "source": [
    "d= map(set, dataset)\n",
    "d"
   ]
  },
  {
   "cell_type": "code",
   "execution_count": null,
   "metadata": {},
   "outputs": [],
   "source": []
  },
  {
   "cell_type": "code",
   "execution_count": 6,
   "metadata": {},
   "outputs": [
    {
     "data": {
      "text/plain": [
       "[frozenset({1}), frozenset({3}), frozenset({2}), frozenset({5})]"
      ]
     },
     "execution_count": 6,
     "metadata": {},
     "output_type": "execute_result"
    }
   ],
   "source": [
    "l1, support_data = apriori.scanD(d, c1,0.5)\n",
    "l1"
   ]
  },
  {
   "cell_type": "code",
   "execution_count": null,
   "metadata": {},
   "outputs": [],
   "source": []
  },
  {
   "cell_type": "code",
   "execution_count": 7,
   "metadata": {},
   "outputs": [
    {
     "data": {
      "text/plain": [
       "[frozenset({1, 3}),\n",
       " frozenset({1, 2}),\n",
       " frozenset({1, 5}),\n",
       " frozenset({2, 3}),\n",
       " frozenset({3, 5}),\n",
       " frozenset({2, 5})]"
      ]
     },
     "execution_count": 7,
     "metadata": {},
     "output_type": "execute_result"
    }
   ],
   "source": [
    "apriori.aprioriGen(l1,2)"
   ]
  },
  {
   "cell_type": "code",
   "execution_count": null,
   "metadata": {},
   "outputs": [],
   "source": []
  },
  {
   "cell_type": "code",
   "execution_count": 10,
   "metadata": {},
   "outputs": [
    {
     "data": {
      "text/plain": [
       "([[frozenset({1}), frozenset({3}), frozenset({2}), frozenset({5})],\n",
       "  [frozenset({1, 3}), frozenset({2, 5}), frozenset({2, 3}), frozenset({3, 5})],\n",
       "  [frozenset({2, 3, 5})],\n",
       "  []],\n",
       " {frozenset({5}): 0.75,\n",
       "  frozenset({3}): 0.75,\n",
       "  frozenset({2, 3, 5}): 0.5,\n",
       "  frozenset({1, 2}): 0.25,\n",
       "  frozenset({1, 5}): 0.25,\n",
       "  frozenset({3, 5}): 0.5,\n",
       "  frozenset({4}): 0.25,\n",
       "  frozenset({2, 3}): 0.5,\n",
       "  frozenset({2, 5}): 0.75,\n",
       "  frozenset({1}): 0.5,\n",
       "  frozenset({1, 3}): 0.5,\n",
       "  frozenset({2}): 0.75})"
      ]
     },
     "execution_count": 10,
     "metadata": {},
     "output_type": "execute_result"
    }
   ],
   "source": [
    "L= apriori.apriori(dataset)\n",
    "L"
   ]
  },
  {
   "cell_type": "code",
   "execution_count": 12,
   "metadata": {},
   "outputs": [
    {
     "data": {
      "text/plain": [
       "[[frozenset({1}), frozenset({3}), frozenset({2}), frozenset({5})],\n",
       " [frozenset({1, 3}), frozenset({2, 5}), frozenset({2, 3}), frozenset({3, 5})],\n",
       " [frozenset({2, 3, 5})],\n",
       " []]"
      ]
     },
     "execution_count": 12,
     "metadata": {},
     "output_type": "execute_result"
    }
   ],
   "source": [
    "L, support_data = apriori.apriori(dataset)\n",
    "L"
   ]
  },
  {
   "cell_type": "code",
   "execution_count": null,
   "metadata": {
    "collapsed": true
   },
   "outputs": [],
   "source": []
  }
 ],
 "metadata": {
  "anaconda-cloud": {},
  "kernelspec": {
   "display_name": "Python 2",
   "language": "python",
   "name": "python2"
  },
  "language_info": {
   "codemirror_mode": {
    "name": "ipython",
    "version": 2
   },
   "file_extension": ".py",
   "mimetype": "text/x-python",
   "name": "python",
   "nbconvert_exporter": "python",
   "pygments_lexer": "ipython2",
   "version": "2.7.12"
  }
 },
 "nbformat": 4,
 "nbformat_minor": 1
}
